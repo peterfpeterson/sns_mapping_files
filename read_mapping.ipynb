{
 "metadata": {
  "name": "",
  "signature": "sha256:2977f847d1a5ab5d8fa8275069a5269e8ad41d58db24f80035c4c4208f93d861"
 },
 "nbformat": 3,
 "nbformat_minor": 0,
 "worksheets": [
  {
   "cells": [
    {
     "cell_type": "code",
     "collapsed": false,
     "input": [
      "import numpy as np"
     ],
     "language": "python",
     "metadata": {},
     "outputs": [],
     "prompt_number": 1
    },
    {
     "cell_type": "code",
     "collapsed": false,
     "input": [
      "filename=\"/SNS/NOM/2010_2_1B_CAL/calibrations/NOM_TS_2010_12_01.dat\"\n",
      "handle = open(filename, 'rb') # binary read\n",
      "data = np.fromfile(handle, dtype=np.int32)"
     ],
     "language": "python",
     "metadata": {},
     "outputs": [],
     "prompt_number": 2
    },
    {
     "cell_type": "code",
     "collapsed": false,
     "input": [
      "import matplotlib.pyplot as plt\n",
      "%matplotlib inline\n",
      "plt.plot(data)"
     ],
     "language": "python",
     "metadata": {},
     "outputs": [
      {
       "metadata": {},
       "output_type": "pyout",
       "prompt_number": 3,
       "text": [
        "[<matplotlib.lines.Line2D at 0x7fe8a125c450>]"
       ]
      },
      {
       "metadata": {},
       "output_type": "display_data",
       "png": "[encoded data removed]",
       "text": [
        "<matplotlib.figure.Figure at 0x7fe8a1531f50>"
       ]
      }
     ],
     "prompt_number": 3
    },
    {
     "cell_type": "code",
     "collapsed": false,
     "input": [
      "print(\"%8s %8s\" % (\"dasid\", \"detid\"))\n",
      "for (dasid,detid) in enumerate(data[:20]): #only first twenty elements\n",
      "    print(\"%8d %8d\" % (dasid, detid))"
     ],
     "language": "python",
     "metadata": {},
     "outputs": [
      {
       "output_type": "stream",
       "stream": "stdout",
       "text": [
        "   dasid    detid\n",
        "       0      896\n",
        "       1      897\n",
        "       2      898\n",
        "       3      899\n",
        "       4      900\n",
        "       5      901\n",
        "       6      902\n",
        "       7      903\n",
        "       8      904\n",
        "       9      905\n",
        "      10      906\n",
        "      11      907\n",
        "      12      908\n",
        "      13      909\n",
        "      14      910\n",
        "      15      911\n",
        "      16      912\n",
        "      17      913\n",
        "      18      914\n",
        "      19      915\n"
       ]
      }
     ],
     "prompt_number": 4
    },
    {
     "cell_type": "code",
     "collapsed": false,
     "input": [],
     "language": "python",
     "metadata": {},
     "outputs": []
    }
   ],
   "metadata": {}
  }
 ]
}